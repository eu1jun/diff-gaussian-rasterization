{
 "cells": [
  {
   "cell_type": "code",
   "execution_count": 2,
   "id": "a618c022",
   "metadata": {},
   "outputs": [],
   "source": [
    "import torch\n",
    "import numpy as np\n",
    "from plyfile import PlyData\n",
    "import matplotlib.pyplot as plt\n",
    "from diff_gaussian_rasterization import rasterize_gaussians, GaussianRasterizationSettings"
   ]
  },
  {
   "cell_type": "code",
   "execution_count": 3,
   "id": "36cd4f88",
   "metadata": {},
   "outputs": [],
   "source": [
    "# 1. PLY 파일 로드 및 데이터 추출\n",
    "ply_path = 'gs_data/syntactic.ply'\n",
    "plydata = PlyData.read(ply_path)\n",
    "vertex_data = plydata['vertex'].data\n"
   ]
  },
  {
   "cell_type": "code",
   "execution_count": 6,
   "id": "705a38f8",
   "metadata": {},
   "outputs": [],
   "source": [
    "# 2. 속성 추출\n",
    "# 위치 (means3D)\n",
    "vertices = np.stack([vertex_data['x'], vertex_data['y'], vertex_data['z']], axis=-1)\n",
    "\n",
    "# 노멀 (normals)\n",
    "normals = np.stack([vertex_data['nx'], vertex_data['ny'], vertex_data['nz']], axis=-1)\n",
    "\n",
    "# 색상 (colors) - f_dc_0, f_dc_1, f_dc_2 사용\n",
    "colors = np.stack([vertex_data['f_dc_0'], vertex_data['f_dc_1'], vertex_data['f_dc_2']], axis=-1)\n",
    "\n",
    "# 불투명도 (opacity)\n",
    "opacity = vertex_data['opacity']\n",
    "\n",
    "# 스케일 (scales)\n",
    "scales = np.stack([vertex_data['scale_0'], vertex_data['scale_1'], vertex_data['scale_2']], axis=-1)\n",
    "\n",
    "# 회전 (rotations) - 쿼터니언 형태로 가정\n",
    "rotations = np.stack([\n",
    "    vertex_data['rot_0'],\n",
    "    vertex_data['rot_1'],\n",
    "    vertex_data['rot_2'],\n",
    "    vertex_data['rot_3']\n",
    "], axis=-1)\n"
   ]
  },
  {
   "cell_type": "code",
   "execution_count": 5,
   "id": "cde061a0",
   "metadata": {},
   "outputs": [
    {
     "name": "stdout",
     "output_type": "stream",
     "text": [
      "[[ 0.2528585   0.17946313  0.42800722]\n",
      " [ 0.13811877  0.14321326  0.6148501 ]\n",
      " [-0.27099672  0.15890008 -0.5628106 ]]\n"
     ]
    }
   ],
   "source": [
    "print(vertices[:3])"
   ]
  },
  {
   "cell_type": "code",
   "execution_count": null,
   "id": "d2a881e0",
   "metadata": {},
   "outputs": [],
   "source": [
    "\n",
    "# 필요한 경우 추가 특성 추출 (예: f_rest_0 ~ f_rest_44)\n",
    "# f_rest = np.stack([vertex_data[f'f_rest_{i}'] for i in range(45)], axis=-1)\n",
    "\n",
    "# 3. PyTorch 텐서로 변환 및 GPU로 이동\n",
    "device = torch.device('cuda' if torch.cuda.is_available() else 'cpu')\n",
    "\n",
    "means3D = torch.tensor(vertices, dtype=torch.float32).to(device)\n",
    "normals_tensor = torch.tensor(normals, dtype=torch.float32).to(device)\n",
    "colors_tensor = torch.tensor(colors, dtype=torch.float32).to(device)\n",
    "opacity_tensor = torch.tensor(opacity, dtype=torch.float32).to(device)\n",
    "scales_tensor = torch.tensor(scales, dtype=torch.float32).to(device)\n",
    "rotations_tensor = torch.tensor(rotations, dtype=torch.float32).to(device)\n",
    "\n",
    "# 4. 래스터화 설정 정의\n",
    "\n",
    "# 이미지 크기\n",
    "image_height = 512\n",
    "image_width = 512\n",
    "\n",
    "# 시야각 설정\n",
    "fov = 60  # degrees\n",
    "aspect_ratio = image_width / image_height\n",
    "tan_fovx = np.tan(np.radians(fov) / 2)\n",
    "tan_fovy = tan_fovx / aspect_ratio\n",
    "\n",
    "# 카메라 매트릭스 설정 (여기서는 단위 행렬 사용)\n",
    "viewmatrix = torch.eye(4, dtype=torch.float32).to(device)\n",
    "projmatrix = torch.eye(4, dtype=torch.float32).to(device)\n",
    "\n",
    "# 배경 색상 설정 (검정색)\n",
    "background = torch.zeros(3, dtype=torch.float32).to(device)\n",
    "\n",
    "# SH (Spherical Harmonics) 설정 (사용하지 않는다면 빈 텐서 전달)\n",
    "sh = torch.zeros((means3D.shape[0], 9), dtype=torch.float32).to(device)\n",
    "degree = 2  # SH 차수 (필요에 따라 변경)\n",
    "\n",
    "# 카메라 위치 설정\n",
    "campos = torch.tensor([0.0, 0.0, 5.0], dtype=torch.float32).to(device)\n",
    "\n",
    "# 래스터화 설정 객체 생성\n",
    "raster_settings = GaussianRasterizationSettings(\n",
    "    image_height=image_height,\n",
    "    image_width=image_width,\n",
    "    tanfovx=tan_fovx,\n",
    "    tanfovy=tan_fovy,\n",
    "    bg=background,\n",
    "    scale_modifier=1.0,\n",
    "    viewmatrix=viewmatrix,\n",
    "    projmatrix=projmatrix,\n",
    "    sh_degree=degree,\n",
    "    campos=campos,\n",
    "    prefiltered=False,\n",
    "    debug=False\n",
    ")\n",
    "\n",
    "# 5. rasterize_gaussians 함수 호출\n",
    "# colors_precomp를 사용하므로 sh는 빈 텐서로 전달\n",
    "means2D = torch.empty(0).to(device)  # 2D 위치는 빈 텐서로 전달\n",
    "cov3D_precomp = torch.empty(0).to(device)  # 미리 계산된 공분산이 없다면 빈 텐서 전달\n",
    "\n",
    "color_image, radii = rasterize_gaussians(\n",
    "    means3D=means3D,\n",
    "    means2D=means2D,\n",
    "    sh=sh,\n",
    "    colors_precomp=colors_tensor,\n",
    "    opacities=opacity_tensor,\n",
    "    scales=scales_tensor,\n",
    "    rotations=rotations_tensor,\n",
    "    cov3Ds_precomp=cov3D_precomp,\n",
    "    raster_settings=raster_settings\n",
    ")\n",
    "\n",
    "# 6. 결과 시각화\n",
    "color_image_cpu = color_image.cpu().detach().numpy()\n",
    "color_image_rgb = color_image_cpu[:, :, :3]  # RGB 채널 추출\n",
    "\n",
    "plt.imshow(np.clip(color_image_rgb, 0, 1))\n",
    "plt.axis('off')\n",
    "plt.show()"
   ]
  },
  {
   "cell_type": "code",
   "execution_count": null,
   "id": "dc12bc73",
   "metadata": {},
   "outputs": [],
   "source": []
  }
 ],
 "metadata": {
  "kernelspec": {
   "display_name": "Python [conda env:.conda-ad_hynix] *",
   "language": "python",
   "name": "conda-env-.conda-ad_hynix-py"
  },
  "language_info": {
   "codemirror_mode": {
    "name": "ipython",
    "version": 3
   },
   "file_extension": ".py",
   "mimetype": "text/x-python",
   "name": "python",
   "nbconvert_exporter": "python",
   "pygments_lexer": "ipython3",
   "version": "3.8.0"
  }
 },
 "nbformat": 4,
 "nbformat_minor": 5
}
