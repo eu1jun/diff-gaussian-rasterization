{
 "cells": [
  {
   "cell_type": "code",
   "execution_count": 1,
   "id": "b45871fb",
   "metadata": {},
   "outputs": [],
   "source": [
    "import torch\n",
    "import numpy as np\n",
    "from plyfile import PlyData\n",
    "import matplotlib.pyplot as plt\n",
    "from diff_gaussian_rasterization import rasterize_gaussians, GaussianRasterizationSettings\n",
    "import torch.nn.functional as F"
   ]
  },
  {
   "cell_type": "code",
   "execution_count": 2,
   "id": "dd64a6d1",
   "metadata": {},
   "outputs": [],
   "source": [
    "# big\n",
    "cam = {\n",
    "    \"id\": 0,\n",
    "    \"img_name\": \"_DSC8679\",\n",
    "    #\"width\": 4946,\n",
    "    \"width\": 800,\n",
    "    #\"height\": 3286,\n",
    "    \"height\": 600,\n",
    "    \"position\": [-3.0026817933840073, 1.4007726437615275, -2.2284005560263305],\n",
    "    \"rotation\": [\n",
    "        [0.6356840663395591, -0.03804422066319289, 0.7710112872559864],\n",
    "        [0.1589352827320079, 0.9838365806164537, -0.08249338484885187],\n",
    "        [-0.7554107119341767, 0.17498062725643193, 0.6314558071472982]\n",
    "    ],\n",
    "    \"fy\": 4627.300372546341,\n",
    "    \"fx\": 4649.505977743847\n",
    "}\n",
    "# small\n",
    "# cam = {\"id\": 0, \"img_name\": \"DSCF5565\", \"width\": 3118, \"height\": 2078, \"position\": [-3.7212285514226, 1.9830705231664232, -0.2941856450880261], \"rotation\": [[0.45692053375530706, -0.23930622827978038, 0.8567124108703402], [0.639268405842538, 0.7580520782954387, -0.12920120697387524], [-0.6185139700316442, 0.6067038616149328, 0.49935047128967736]], \"fy\": 3222.7010797592447, \"fx\": 3222.7010797592447}\n",
    "# cam = {\"id\": 0, \"img_name\": \"DSCF5565\", \"width\": 800, \"height\": 600, \"position\": [-3.7212285514226, 1.9830705231664232, -0.2941856450880261], \"rotation\": [[0.45692053375530706, -0.23930622827978038, 0.8567124108703402], [0.639268405842538, 0.7580520782954387, -0.12920120697387524], [-0.6185139700316442, 0.6067038616149328, 0.49935047128967736]], \"fy\": 3222.7010797592447, \"fx\": 3222.7010797592447}"
   ]
  },
  {
   "cell_type": "code",
   "execution_count": 3,
   "id": "bd022307",
   "metadata": {
    "scrolled": false
   },
   "outputs": [],
   "source": [
    "# 1. PLY 파일 로드 및 데이터 추출\n",
    "ply_path = 'gs_data/point_cloud.ply'\n",
    "plydata = PlyData.read(ply_path)\n",
    "vertex_data = plydata['vertex']\n",
    "# vertex_data = vertex_data[:197984]\n",
    "num_points = len(vertex_data['x'])  # x 좌표의 개수를 이용하여 포인트 수 추정\n",
    "\n",
    "def prepare_sh_coefficients_vectorized(vertex_data, num_points):\n",
    "    sh_coeffs_per_point = 3 + 45  # f_dc 3개, f_rest 45개\n",
    "\n",
    "    # f_dc 계수 추출 및 스택\n",
    "    f_dc = np.stack([vertex_data[f'f_dc_{i}'] for i in range(3)], axis=-1)  # (num_points, 3)\n",
    "\n",
    "    # f_rest 계수 추출 및 스택\n",
    "    f_rest = np.stack([vertex_data[f'f_rest_{j}'] for j in range(45)], axis=-1)  # (num_points, 45)\n",
    "\n",
    "    # f_dc와 f_rest를 결합하여 최종 SH 계수 생성\n",
    "    shs = np.concatenate([f_dc, f_rest], axis=-1).astype(np.float32)  # (num_points, 48)\n",
    "\n",
    "    # 필요에 따라 1차원 배열로 평탄화\n",
    "    shs_flat = shs.reshape(-1)  # (num_points * 48,)\n",
    "\n",
    "    return shs_flat\n"
   ]
  },
  {
   "cell_type": "code",
   "execution_count": 4,
   "id": "36cd4f88",
   "metadata": {},
   "outputs": [],
   "source": [
    "# 2. 속성 추출\n",
    "vertices = np.stack([vertex_data['x'], vertex_data['y'], vertex_data['z']], axis=-1)\n",
    "normals = np.stack([vertex_data['nx'], vertex_data['ny'], vertex_data['nz']], axis=-1)\n",
    "\n",
    "shs = prepare_sh_coefficients_vectorized(vertex_data, num_points)\n",
    "\n",
    "opacity = vertex_data['opacity']\n",
    "scales = np.stack([vertex_data['scale_0'], vertex_data['scale_1'], vertex_data['scale_2']], axis=-1)\n",
    "rotations = np.stack([\n",
    "    vertex_data['rot_0'],\n",
    "    vertex_data['rot_1'],\n",
    "    vertex_data['rot_2'],\n",
    "    vertex_data['rot_3']\n",
    "], axis=-1)\n"
   ]
  },
  {
   "cell_type": "code",
   "execution_count": 5,
   "id": "cd4545d6",
   "metadata": {},
   "outputs": [],
   "source": [
    "# 3. PyTorch 텐서로 변환 및 GPU로 이동\n",
    "device = torch.device('cuda' if torch.cuda.is_available() else 'cpu')\n",
    "means3D = torch.tensor(vertices, dtype=torch.float32).to(device)\n",
    "normals_tensor = torch.tensor(normals, dtype=torch.float32).to(device)\n",
    "opacity_tensor = torch.tensor(opacity, dtype=torch.float32).to(device)\n",
    "scales_tensor = torch.tensor(scales, dtype=torch.float32).to(device)\n",
    "rotations_tensor = torch.tensor(rotations, dtype=torch.float32).to(device)"
   ]
  },
  {
   "cell_type": "code",
   "execution_count": 6,
   "id": "c15eba45",
   "metadata": {},
   "outputs": [],
   "source": [
    "# 4. 래스터화 설정 정의\n",
    "image_width = 800\n",
    "image_height = 600\n",
    "\n",
    "# 시야각 설정\n",
    "tan_fovx = np.tan(np.radians(70))\n",
    "tan_fovy = np.tan(np.radians(70))\n",
    "\n",
    "# 카메라 매트릭스 설정\n",
    "cam_pos = torch.tensor(cam[\"position\"], dtype=torch.float32)\n",
    "rotation_matrix = torch.tensor(cam[\"rotation\"], dtype=torch.float32)  # 3x3 행렬\n",
    "fx = cam[\"fx\"]\n",
    "fy = cam[\"fy\"]\n",
    "width = cam[\"width\"]\n",
    "height = cam[\"height\"]\n",
    "\n",
    "# 방향 벡터 계산\n",
    "# 여기서 rotation_matrix는 월드 좌표계에서 카메라 좌표계로의 회전 행렬이라고 가정\n",
    "# 보통 OpenGL과 DirectX는 카메라 매트릭스의 정의가 다를 수 있으니, 필요에 따라 수정\n",
    "z_axis = F.normalize(cam_pos, dim=0)  # 카메라의 방향 벡터\n",
    "x_axis = F.normalize(torch.cross(torch.tensor([0.0, 1.0, 0.0]), z_axis), dim=0)\n",
    "y_axis = torch.cross(z_axis, x_axis)\n",
    "\n",
    "# 뷰 매트릭스 생성\n",
    "view_matrix = torch.eye(4, dtype=torch.float32)\n",
    "view_matrix[:3, :3] = torch.stack([x_axis, y_axis, z_axis], dim=0)\n",
    "view_matrix[:3, 3] = -torch.matmul(view_matrix[:3, :3], cam_pos)\n",
    "\n",
    "# 투영 매트릭스 생성 (Intrinsic parameters 사용)\n",
    "near = 0.01\n",
    "far = 100.0\n",
    "proj_matrix = torch.zeros(4, 4, dtype=torch.float32)\n",
    "proj_matrix[0, 0] = 2 * fx / width\n",
    "proj_matrix[1, 1] = 2 * fy / height\n",
    "proj_matrix[2, 2] = -(far + near) / (far - near)\n",
    "proj_matrix[2, 3] = -(2 * far * near) / (far - near)\n",
    "proj_matrix[3, 2] = -1\n",
    "\n",
    "# 배경 색상 설정 (검정색)\n",
    "background = torch.zeros(3, dtype=torch.float32).to(device)\n",
    "\n",
    "degree = 3  # SH 차수\n",
    "\n",
    "# 래스터화 설정 객체 생성\n",
    "raster_settings = GaussianRasterizationSettings(\n",
    "    image_height=image_height,\n",
    "    image_width=image_width,\n",
    "    tanfovx=tan_fovx,\n",
    "    tanfovy=tan_fovy,\n",
    "    bg=background,\n",
    "    scale_modifier=1.0,\n",
    "    viewmatrix=view_matrix.contiguous().to(device),\n",
    "    projmatrix=proj_matrix.contiguous().to(device),\n",
    "    sh_degree=degree,\n",
    "    campos=cam_pos.contiguous().to(device),\n",
    "    prefiltered=False,\n",
    "    debug=True\n",
    ")"
   ]
  },
  {
   "cell_type": "code",
   "execution_count": 7,
   "id": "705a38f8",
   "metadata": {
    "scrolled": false
   },
   "outputs": [
    {
     "name": "stdout",
     "output_type": "stream",
     "text": [
      "means3D shape: torch.Size([3616103, 3])\n",
      "means2D shape: torch.Size([3616103, 2])\n",
      "sh shape: torch.Size([3616103, 48])\n",
      "colors_precomp shape: torch.Size([3616103, 3])\n",
      "opacities shape: torch.Size([3616103])\n",
      "scales shape: torch.Size([3616103, 3])\n",
      "rotations shape: torch.Size([3616103, 4])\n",
      "cov3Ds_precomp shape: torch.Size([3616103, 3, 3])\n"
     ]
    }
   ],
   "source": [
    "means2D = torch.zeros(size=(num_points, 2), device=device, dtype=torch.float32)\n",
    "colors_precomp = torch.zeros((num_points, 3), device=device, dtype=torch.float32)\n",
    "cov3Ds_precomp = torch.zeros((num_points, 3, 3), device=device, dtype=torch.float32)\n",
    "shs = shs.reshape(num_points, 48)\n",
    "shs_tensor = torch.tensor(shs, dtype=torch.float32, device=device)\n",
    "print(\"means3D shape:\", means3D.shape)\n",
    "print(\"means2D shape:\", means2D.shape)\n",
    "print(\"sh shape:\", shs_tensor.shape)\n",
    "print(\"colors_precomp shape:\", colors_precomp.shape)\n",
    "print(\"opacities shape:\", opacity_tensor.shape)\n",
    "print(\"scales shape:\", scales_tensor.shape)\n",
    "print(\"rotations shape:\", rotations_tensor.shape)\n",
    "print(\"cov3Ds_precomp shape:\", cov3Ds_precomp.shape)"
   ]
  },
  {
   "cell_type": "code",
   "execution_count": 8,
   "id": "a167ae81",
   "metadata": {},
   "outputs": [
    {
     "name": "stdout",
     "output_type": "stream",
     "text": [
      "tensor([[-1.9985e-02,  3.1650e-01,  6.4937e-01],\n",
      "        [ 2.3251e-03,  3.0958e-01,  6.7104e-01],\n",
      "        [-1.3825e-02,  1.5406e-01,  7.3712e-01],\n",
      "        ...,\n",
      "        [ 3.7562e+00, -1.4098e+01,  2.1480e+01],\n",
      "        [-2.3469e+00,  3.7371e+00, -2.1517e+01],\n",
      "        [ 1.2812e+01,  7.9570e-01, -4.6617e+00]], device='cuda:0')\n",
      "tensor([[-1.2303, -1.2041, -1.3522,  ..., -0.0104,  0.0063,  0.0325],\n",
      "        [-1.1690, -1.1521, -1.2721,  ...,  0.0628, -0.0554,  0.0676],\n",
      "        [ 1.4717,  1.4697,  1.4346,  ...,  0.0407,  0.0169, -0.0403],\n",
      "        ...,\n",
      "        [-1.6318, -1.6364, -1.6601,  ...,  0.0000,  0.0000,  0.0000],\n",
      "        [-0.5780, -0.4898, -0.8357,  ...,  0.0249, -0.0387,  0.0100],\n",
      "        [-1.2825, -1.3102, -1.2773,  ...,  0.0623, -0.0021, -0.0109]],\n",
      "       device='cuda:0')\n",
      "tensor([ 2.0967, -0.9215, -1.4938,  ..., 11.5844,  5.3880, -1.1970],\n",
      "       device='cuda:0')\n",
      "tensor([[-5.5190, -5.8676, -4.4886],\n",
      "        [-5.1550, -6.2582, -4.7672],\n",
      "        [-4.7639, -6.9214, -5.0885],\n",
      "        ...,\n",
      "        [-6.7912, -7.8876, -3.1959],\n",
      "        [-4.8887, -4.7791, -3.6688],\n",
      "        [-4.7957, -3.6786, -4.9275]], device='cuda:0')\n",
      "tensor([[ 0.9322,  0.0553, -0.0780, -0.1040],\n",
      "        [ 0.7376, -0.1011, -0.3054, -0.1077],\n",
      "        [ 0.5928, -0.3180, -0.0081, -0.0516],\n",
      "        ...,\n",
      "        [ 0.8257, -0.2513, -0.4039, -0.0648],\n",
      "        [ 0.6414, -0.5716, -0.2056, -0.0427],\n",
      "        [ 0.4633, -0.6200, -0.1607,  0.4826]], device='cuda:0')\n",
      "GaussianRasterizationSettings(image_height=600, image_width=800, tanfovx=2.747477419454621, tanfovy=2.747477419454621, bg=tensor([0., 0., 0.], device='cuda:0'), scale_modifier=1.0, viewmatrix=tensor([[-5.9595e-01,  0.0000e+00,  8.0302e-01, -1.1921e-07],\n",
      "        [ 2.8171e-01,  9.3645e-01,  2.0906e-01, -1.1921e-07],\n",
      "        [-7.5199e-01,  3.5081e-01, -5.5808e-01, -3.9930e+00],\n",
      "        [ 0.0000e+00,  0.0000e+00,  0.0000e+00,  1.0000e+00]], device='cuda:0'), projmatrix=tensor([[11.6238,  0.0000,  0.0000,  0.0000],\n",
      "        [ 0.0000, 15.4243,  0.0000,  0.0000],\n",
      "        [ 0.0000,  0.0000, -1.0002, -0.0200],\n",
      "        [ 0.0000,  0.0000, -1.0000,  0.0000]], device='cuda:0'), sh_degree=3, campos=tensor([-3.0027,  1.4008, -2.2284], device='cuda:0'), prefiltered=False, debug=True)\n"
     ]
    }
   ],
   "source": [
    "print(means3D)\n",
    "print(shs_tensor)\n",
    "print(opacity_tensor)\n",
    "print(scales_tensor)\n",
    "print(rotations_tensor)\n",
    "print(raster_settings)"
   ]
  },
  {
   "cell_type": "code",
   "execution_count": null,
   "id": "05dd8a7b",
   "metadata": {},
   "outputs": [],
   "source": [
    "color_image, radii = rasterize_gaussians(\n",
    "    means3D=means3D.to(device).contiguous(),\n",
    "    means2D=means2D.contiguous(),\n",
    "    sh=shs_tensor.contiguous(),  # (N, 48)\n",
    "    colors_precomp=colors_precomp.contiguous(), \n",
    "    opacities=opacity_tensor.to(device).contiguous(),\n",
    "    scales=scales_tensor.to(device).contiguous(),\n",
    "    rotations=rotations_tensor.to(device).contiguous(),\n",
    "    cov3Ds_precomp=cov3Ds_precomp.contiguous(),\n",
    "    raster_settings=raster_settings,\n",
    ")\n",
    "\n",
    "# 6. 결과 시각화\n",
    "color_image_cpu = color_image.cpu().detach().numpy()"
   ]
  },
  {
   "cell_type": "code",
   "execution_count": null,
   "id": "e3a5c07d",
   "metadata": {},
   "outputs": [],
   "source": [
    "color_image_cpu_transposed = np.transpose(color_image_cpu, (1, 2, 0))\n",
    "print(color_image_cpu_transposed)"
   ]
  },
  {
   "cell_type": "code",
   "execution_count": null,
   "id": "c5d4be5c",
   "metadata": {},
   "outputs": [],
   "source": [
    "# Now we can display the image\n",
    "plt.imshow(color_image_cpu_transposed)\n",
    "plt.axis('off')  # Turns off the axis labels and ticks\n",
    "plt.show()"
   ]
  },
  {
   "cell_type": "code",
   "execution_count": null,
   "id": "9d5de35c",
   "metadata": {},
   "outputs": [],
   "source": []
  },
  {
   "cell_type": "code",
   "execution_count": null,
   "id": "ae64e37a",
   "metadata": {},
   "outputs": [],
   "source": []
  }
 ],
 "metadata": {
  "celltoolbar": "Raw Cell Format",
  "kernelspec": {
   "display_name": "Python [conda env:.conda-ad_hynix] *",
   "language": "python",
   "name": "conda-env-.conda-ad_hynix-py"
  },
  "language_info": {
   "codemirror_mode": {
    "name": "ipython",
    "version": 3
   },
   "file_extension": ".py",
   "mimetype": "text/x-python",
   "name": "python",
   "nbconvert_exporter": "python",
   "pygments_lexer": "ipython3",
   "version": "3.8.0"
  }
 },
 "nbformat": 4,
 "nbformat_minor": 5
}
